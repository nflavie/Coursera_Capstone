{
 "cells": [
  {
   "cell_type": "markdown",
   "metadata": {},
   "source": [
    "# Capstone Project"
   ]
  },
  {
   "cell_type": "markdown",
   "metadata": {},
   "source": [
    "## Table of Contents\n",
    "\n",
    " </div>\n",
    "\n",
    "- **Introduction** (Submission 1 & 2) where you discuss the business problem and who would be interested in this project\n",
    "- **Data** (Submission 1 & 2) section where you describe the data that will be used to solve the problem and the source of the data\n",
    "- **Methodology** (Submission 2) section which represents the main component of the report where you discuss and describe any exploratory data analysis that you did, any inferential statistical testing that you performed, if any, and what machine learning algorithms were used and why\n",
    "- **Results** (Submission 2) section where you discuss the results\n",
    "- **Discussion** (Submission 2) section where you discuss any observations you noted and any recommendations you can make based on the results\n",
    "- **Conclusion** (Submission 2) section where you conclude the report\n",
    "- **Code Appendix** (Submission 2)\n",
    "- **Presentation Appendix** (Submission 2)"
   ]
  },
  {
   "cell_type": "markdown",
   "metadata": {},
   "source": [
    "## *Introduction*"
   ]
  },
  {
   "cell_type": "markdown",
   "metadata": {},
   "source": [
    "When you move to a new city, you often need to find your home before actually living in the new city. Finding an apartment or house that suits your needs and constraints without spending too much time searching is a challenge. Equally, living in a place that does not meet our needs can impact our satisfaction and / or mental health significantly.\n",
    "\n",
    "Our objective is to help someone moving to a new city find faster a suitable apartment or house.\n",
    "The problem can be split into the following sub-questions, covering main constraints when looking for a home:\n",
    "- what are the financial constraints e.g. target range of rent / purchase price?\n",
    "- is there a need to be close to a specific address e.g. university or office?\n",
    "- what are the expected features of the home e.g. number of rooms / bath rooms, size?\n",
    "- what are the expected features of the neighborhood of the home e.g. presence of schools or places to go out, closeness to public transportation?\n",
    "\n",
    "We are going to focus on the 4th question. The objective is to narrow down the number of boroughs and neighborhoods to be considered in the search."
   ]
  },
  {
   "cell_type": "markdown",
   "metadata": {},
   "source": [
    "## *Data*"
   ]
  },
  {
   "cell_type": "markdown",
   "metadata": {
    "tags": []
   },
   "source": [
    "We will use a content-based recommendation system to solve the selected problem.\n",
    "\n",
    "The problem can therefore be split into the following sub-questions:\n",
    "- what features is our customer looking for?\n",
    "- which neighborhoods best match these features?\n",
    "\n",
    "The content-based recommendation system requires \n",
    "- information about the user: user rating of each type of venue to create the user profile; we will ask each user to provide this input\n",
    "- information about the neighborhoods: type of venues available in each neighborhood to create the neighborhood profile; we will use Foursquare to get access to this information\n",
    "\n",
    "We will also display the results on a map: we will need the coordinates of Toronto to center the map and the coordinates of the recommended neighborhoods, to display them on the map."
   ]
  }
 ],
 "metadata": {
  "kernelspec": {
   "display_name": "Python",
   "language": "python",
   "name": "conda-env-python-py"
  },
  "language_info": {
   "codemirror_mode": {
    "name": "ipython",
    "version": 3
   },
   "file_extension": ".py",
   "mimetype": "text/x-python",
   "name": "python",
   "nbconvert_exporter": "python",
   "pygments_lexer": "ipython3",
   "version": "3.6.13"
  },
  "widgets": {
   "state": {},
   "version": "1.1.2"
  }
 },
 "nbformat": 4,
 "nbformat_minor": 4
}
