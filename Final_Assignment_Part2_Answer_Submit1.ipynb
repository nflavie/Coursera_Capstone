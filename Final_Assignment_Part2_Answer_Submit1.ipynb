{
 "cells": [
  {
   "cell_type": "markdown",
   "metadata": {},
   "source": [
    "# Capstone Project"
   ]
  },
  {
   "cell_type": "markdown",
   "metadata": {},
   "source": [
    "## Table of Contents\n",
    "\n",
    "- **Introduction** (Submission 1 & 2) where you discuss the business problem and who would be interested in this project\n",
    "- **Data** (Submission 1 & 2) section where you describe the data that will be used to solve the problem and the source of the data\n",
    "- **Methodology** (Submission 2) section which represents the main component of the report where you discuss and describe any exploratory data analysis that you did, any inferential statistical testing that you performed, if any, and what machine learning algorithms were used and why\n",
    "- **Results** (Submission 2) section where you discuss the results\n",
    "- **Discussion** (Submission 2) section where you discuss any observations you noted and any recommendations you can make based on the results\n",
    "- **Conclusion** (Submission 2) section where you conclude the report\n",
    "- **Code Appendix** (Submission 2)\n",
    "- **Presentation Appendix** (Submission 2)"
   ]
  },
  {
   "cell_type": "markdown",
   "metadata": {},
   "source": [
    "## *Introduction*"
   ]
  },
  {
   "cell_type": "markdown",
   "metadata": {},
   "source": [
    "When you move to a new city, you often need to find your home before actually living in the new location. Finding an apartment or house that suits your needs and constraints without spending too much time searching is a challenge. \n",
    "<br>\n",
    "For example, imagine you are in a situation where you have little time to find a home because e.g. your start date in a new university or job is very soon. You do not want to settle for a place that does not really suit you, because you know that living in a place that does not meet our needs can impact our satisfaction and / or mental health significantly. On the other hand, you cannot spend 24 x 7 searching for a new home. Relying entirely on the advice of your friends and family seems risky too. what would be helpful in that case?\n",
    "\n",
    "The objective of this project is to help someone moving to a new city find faster a suitable apartment or house. The target audience is large and encompasses a variety of life situations. A few examples hereafter:\n",
    "- a student starting in a new university\n",
    "- a single young professional with a dog\n",
    "- a family\n",
    "- a senior couple starting their retirement.\n",
    "\n",
    "The above-mentioned problem - how to reduce time spent finding a suitable home in an unknown city - can be split into the following sub-questions, covering main constraints when looking for a home:\n",
    "- what are the financial constraints e.g. target range of rent / purchase price?\n",
    "- is there a need to be close to a specific address e.g. university or office?\n",
    "- what are the expected features of the home e.g. number of rooms / bath rooms, size?\n",
    "- what are the expected features of the neighborhood of the home e.g. presence of schools or places to go out, closeness to public transportation?\n",
    "\n",
    "This project is going to focus on the 4th question. The objective is to narrow down the number of neighborhoods to be considered in the search, and thus to reduce the overall search time. Of course this is only one possible lever to reduce the total search time."
   ]
  },
  {
   "cell_type": "markdown",
   "metadata": {},
   "source": [
    "## *Data*"
   ]
  },
  {
   "cell_type": "markdown",
   "metadata": {
    "tags": []
   },
   "source": [
    "We will use a content-based recommendation system to solve the selected problem.\n",
    "\n",
    "The problem can therefore be split into the following sub-questions:\n",
    "- what features is our customer looking for?\n",
    "- which neighborhoods best match these features?\n",
    "\n",
    "The content-based recommendation system requires: \n",
    "- information about the user: user rating of each type of venue to create the user profile; we will ask each user to provide this input\n",
    "- information about the neighborhoods: type of venues available in each neighborhood to create the neighborhood profile; we will use Foursquare to get this information\n",
    "***\n",
    "**Information about the user**\n",
    "<br>\n",
    "For our project, we simply need to get a ranked list of preferred venues from a user. \n",
    "<br>\n",
    "For a family moving to a new city, this ranked list could look like this:\n",
    "1. school\n",
    "2. playground\n",
    "3. grocery store\n",
    "For a single professional with a dog and an obsession about Korean food, this ranked list could look like this:\n",
    "1. dog ground\n",
    "2. gym\n",
    "3. bakery\n",
    "4. Korean restaurant\n",
    "***\n",
    "**Information about the neighborhoods**\n",
    "<br>\n",
    "For our project, we will focus on Toronto as a destination.\n",
    "We will need 3 types of information about Toronto:\n",
    "- the list of neighborhoods - in a previous assignment, this data has been scrapped from the web\n",
    "- the venues available in each neighborhood - in a previous assignment, we have gathered this data from Foursquare. In the latter assignment, we have determined the top 10 venues by neighborhood. The categorization of venues coming from Foursquare is rather detailed. In total there are 334 different categories. This means for example that there is no generic restaurant category, or fitness category. We may have to cluster some venue categories to improve the result of our recommendation engine.\n",
    "- the coordinates - as we will also display the results on a map, we will need the coordinates of Toronto to center the map and the coordinates of the recommended neighborhoods."
   ]
  },
  {
   "cell_type": "code",
   "execution_count": null,
   "metadata": {},
   "outputs": [],
   "source": []
  }
 ],
 "metadata": {
  "kernelspec": {
   "display_name": "Python",
   "language": "python",
   "name": "conda-env-python-py"
  },
  "language_info": {
   "codemirror_mode": {
    "name": "ipython",
    "version": 3
   },
   "file_extension": ".py",
   "mimetype": "text/x-python",
   "name": "python",
   "nbconvert_exporter": "python",
   "pygments_lexer": "ipython3",
   "version": "3.6.13"
  },
  "widgets": {
   "state": {},
   "version": "1.1.2"
  }
 },
 "nbformat": 4,
 "nbformat_minor": 4
}
