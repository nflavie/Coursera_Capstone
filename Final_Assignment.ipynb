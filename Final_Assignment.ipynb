{
 "cells": [
  {
   "cell_type": "markdown",
   "id": "eb95d600-f9e3-4024-b7ec-edc403187c94",
   "metadata": {},
   "source": [
    "### Capstone Project Final Assignment"
   ]
  },
  {
   "cell_type": "markdown",
   "id": "d3d18e68-9376-427b-b00a-361bb8825dda",
   "metadata": {},
   "source": [
    "This Notebook will be used for the Capstone Project."
   ]
  },
  {
   "cell_type": "code",
   "execution_count": 4,
   "id": "d52a36db-2aef-4993-9537-da8516ea869f",
   "metadata": {},
   "outputs": [
    {
     "name": "stdout",
     "output_type": "stream",
     "text": [
      "Hello Capstone Project Course!\n"
     ]
    }
   ],
   "source": [
    "# import pandas\n",
    "import pandas as pd\n",
    "\n",
    "# import numpy\n",
    "import numpy as np\n",
    "\n",
    "# print first sentence\n",
    "print(\"Hello Capstone Project Course!\")"
   ]
  }
 ],
 "metadata": {
  "kernelspec": {
   "display_name": "Python",
   "language": "python",
   "name": "conda-env-python-py"
  },
  "language_info": {
   "codemirror_mode": {
    "name": "ipython",
    "version": 3
   },
   "file_extension": ".py",
   "mimetype": "text/x-python",
   "name": "python",
   "nbconvert_exporter": "python",
   "pygments_lexer": "ipython3",
   "version": "3.6.13"
  }
 },
 "nbformat": 4,
 "nbformat_minor": 5
}
